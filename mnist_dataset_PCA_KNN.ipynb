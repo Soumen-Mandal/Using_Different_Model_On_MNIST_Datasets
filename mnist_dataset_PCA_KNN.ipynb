{
  "nbformat": 4,
  "nbformat_minor": 0,
  "metadata": {
    "colab": {
      "provenance": []
    },
    "kernelspec": {
      "name": "python3",
      "display_name": "Python 3"
    },
    "language_info": {
      "name": "python"
    }
  },
  "cells": [
    {
      "cell_type": "code",
      "execution_count": null,
      "metadata": {
        "id": "mnU11deDeTRu"
      },
      "outputs": [],
      "source": [
        "import numpy as np\n",
        "import pandas as pd\n",
        "import matplotlib.pyplot as plt"
      ]
    },
    {
      "cell_type": "code",
      "source": [
        "import keras\n",
        "from keras.datasets import mnist\n",
        "(x_train, y_train), (x_test, y_test) = keras.datasets.mnist.load_data()"
      ],
      "metadata": {
        "id": "EbiQbd88h8l3",
        "colab": {
          "base_uri": "https://localhost:8080/"
        },
        "outputId": "18d51f23-5315-4fe5-8a8b-bfb2b5eaecf7"
      },
      "execution_count": null,
      "outputs": [
        {
          "output_type": "stream",
          "name": "stdout",
          "text": [
            "Downloading data from https://storage.googleapis.com/tensorflow/tf-keras-datasets/mnist.npz\n",
            "11490434/11490434 [==============================] - 1s 0us/step\n"
          ]
        }
      ]
    },
    {
      "cell_type": "code",
      "source": [
        "x_train.shape"
      ],
      "metadata": {
        "colab": {
          "base_uri": "https://localhost:8080/"
        },
        "id": "EjrK62Qvkg-I",
        "outputId": "3b1a0185-ee5f-4ed5-c133-e21258c6daae"
      },
      "execution_count": null,
      "outputs": [
        {
          "output_type": "execute_result",
          "data": {
            "text/plain": [
              "(60000, 28, 28)"
            ]
          },
          "metadata": {},
          "execution_count": 3
        }
      ]
    },
    {
      "cell_type": "code",
      "source": [
        "type(x_train)"
      ],
      "metadata": {
        "colab": {
          "base_uri": "https://localhost:8080/"
        },
        "id": "gttZik9MqK5H",
        "outputId": "025feba5-43bb-4ec3-8e5b-75fe2bc81e49"
      },
      "execution_count": null,
      "outputs": [
        {
          "output_type": "execute_result",
          "data": {
            "text/plain": [
              "numpy.ndarray"
            ]
          },
          "metadata": {},
          "execution_count": 4
        }
      ]
    },
    {
      "cell_type": "code",
      "source": [
        "x_train[1]\n",
        "y_train[1]"
      ],
      "metadata": {
        "colab": {
          "base_uri": "https://localhost:8080/"
        },
        "id": "mVstO-6lk6rc",
        "outputId": "80da5104-a18f-439f-c102-bc0e2b9dc4ca"
      },
      "execution_count": null,
      "outputs": [
        {
          "output_type": "execute_result",
          "data": {
            "text/plain": [
              "0"
            ]
          },
          "metadata": {},
          "execution_count": 5
        }
      ]
    },
    {
      "cell_type": "code",
      "source": [
        "plt.imshow(x_train[1], cmap = \"gray\")"
      ],
      "metadata": {
        "colab": {
          "base_uri": "https://localhost:8080/",
          "height": 447
        },
        "id": "YVvLIxkflRdD",
        "outputId": "4d7a697c-691f-46d6-e246-2e94188145ba"
      },
      "execution_count": null,
      "outputs": [
        {
          "output_type": "execute_result",
          "data": {
            "text/plain": [
              "<matplotlib.image.AxesImage at 0x79b5f24ff160>"
            ]
          },
          "metadata": {},
          "execution_count": 6
        },
        {
          "output_type": "display_data",
          "data": {
            "text/plain": [
              "<Figure size 640x480 with 1 Axes>"
            ],
            "image/png": "[encoded data removed]"
          },
          "metadata": {}
        }
      ]
    },
    {
      "cell_type": "markdown",
      "source": [
        "## 2D Visualization using PCA"
      ],
      "metadata": {
        "id": "3oCA5ERQpepm"
      }
    },
    {
      "cell_type": "code",
      "source": [
        "x = []\n",
        "for i in range(x_train.shape[0]):\n",
        "  x.append(x_train[i].flatten())"
      ],
      "metadata": {
        "id": "jyBO6yT9fgGX"
      },
      "execution_count": null,
      "outputs": []
    },
    {
      "cell_type": "code",
      "source": [
        "x1 = []\n",
        "for i in range(x_test.shape[0]):\n",
        "  x1.append(x_test[i].flatten())"
      ],
      "metadata": {
        "id": "mAjJhl1B7UnR"
      },
      "execution_count": null,
      "outputs": []
    },
    {
      "cell_type": "code",
      "source": [
        "type(x)"
      ],
      "metadata": {
        "colab": {
          "base_uri": "https://localhost:8080/"
        },
        "id": "1ZCx6IdkuITm",
        "outputId": "2f6a2a11-f930-4bf8-dba1-9791ee361319"
      },
      "execution_count": null,
      "outputs": [
        {
          "output_type": "execute_result",
          "data": {
            "text/plain": [
              "list"
            ]
          },
          "metadata": {},
          "execution_count": 9
        }
      ]
    },
    {
      "cell_type": "code",
      "source": [
        "x = np.array(x)\n",
        "x1 = np.array(x1)"
      ],
      "metadata": {
        "id": "52n-zLCYuKiX"
      },
      "execution_count": null,
      "outputs": []
    },
    {
      "cell_type": "code",
      "source": [
        "x.shape"
      ],
      "metadata": {
        "colab": {
          "base_uri": "https://localhost:8080/"
        },
        "id": "-QRGUqaduPhU",
        "outputId": "2a014a7c-269e-454f-ee0b-e4431d5ca448"
      },
      "execution_count": null,
      "outputs": [
        {
          "output_type": "execute_result",
          "data": {
            "text/plain": [
              "(60000, 784)"
            ]
          },
          "metadata": {},
          "execution_count": 11
        }
      ]
    },
    {
      "cell_type": "code",
      "source": [
        "new_x = x\n",
        "new_x1 = x1\n",
        "new_y = y_train\n",
        "new_y1 = y_test"
      ],
      "metadata": {
        "id": "DQsmnGY9ut8V"
      },
      "execution_count": null,
      "outputs": []
    },
    {
      "cell_type": "code",
      "source": [
        "new_x.shape"
      ],
      "metadata": {
        "colab": {
          "base_uri": "https://localhost:8080/"
        },
        "id": "2pk43nr0vi9x",
        "outputId": "e5c463ef-8d3e-4bf7-de46-e0ca8bfa0150"
      },
      "execution_count": null,
      "outputs": [
        {
          "output_type": "execute_result",
          "data": {
            "text/plain": [
              "(60000, 784)"
            ]
          },
          "metadata": {},
          "execution_count": 13
        }
      ]
    },
    {
      "cell_type": "code",
      "source": [
        "from sklearn.preprocessing import StandardScaler\n",
        "standardized_data = StandardScaler().fit_transform(new_x)\n",
        "print(standardized_data.shape)"
      ],
      "metadata": {
        "colab": {
          "base_uri": "https://localhost:8080/"
        },
        "id": "eyBvFMuRvmg0",
        "outputId": "fd7f06d3-7483-4e53-9a07-450934f39975"
      },
      "execution_count": null,
      "outputs": [
        {
          "output_type": "stream",
          "name": "stdout",
          "text": [
            "(60000, 784)\n"
          ]
        }
      ]
    },
    {
      "cell_type": "code",
      "source": [
        "# standardized_data[1]"
      ],
      "metadata": {
        "id": "ZXPjxAzVwXRB"
      },
      "execution_count": null,
      "outputs": []
    },
    {
      "cell_type": "markdown",
      "source": [
        "## Classification Using KNN"
      ],
      "metadata": {
        "id": "YBfnhCAO6p2p"
      }
    },
    {
      "cell_type": "code",
      "source": [
        "# from sklearn.neighbors import KNeighborsClassifier\n",
        "# neigh = KNeighborsClassifier(n_neighbors=1)"
      ],
      "metadata": {
        "id": "xo3tATX76k-7"
      },
      "execution_count": null,
      "outputs": []
    },
    {
      "cell_type": "code",
      "source": [
        "# new_x_train = standardized_data"
      ],
      "metadata": {
        "id": "9PiNPFIX6wvO"
      },
      "execution_count": null,
      "outputs": []
    },
    {
      "cell_type": "code",
      "source": [
        "# standardized_x_test_data = StandardScaler().fit_transform(new_x1)"
      ],
      "metadata": {
        "id": "JIw21Fuh8om6"
      },
      "execution_count": null,
      "outputs": []
    },
    {
      "cell_type": "code",
      "source": [
        "# KNN_x_test = standardized_x_test_data"
      ],
      "metadata": {
        "id": "Tm4d7RSR9As5"
      },
      "execution_count": null,
      "outputs": []
    },
    {
      "cell_type": "code",
      "source": [
        "# from sklearn.model_selection import train_test_split\n",
        "# KNN_x_train, KNN_x_cv, KNN_y_train, KNN_y_cv = train_test_split(new_x,new_y, random_state = 42, test_size = 0.25, shuffle = True)"
      ],
      "metadata": {
        "id": "Z-r8QN74T2CF"
      },
      "execution_count": null,
      "outputs": []
    },
    {
      "cell_type": "code",
      "source": [
        "# neigh.fit(KNN_x_train, KNN_y_train)"
      ],
      "metadata": {
        "id": "3DPrH2Lt9PFA"
      },
      "execution_count": null,
      "outputs": []
    },
    {
      "cell_type": "code",
      "source": [
        "# from sklearn import metrics\n",
        "# pred = neigh.predict(KNN_x_cv)\n",
        "# accuracy = metrics.accuracy_score(KNN_y_cv,pred)\n",
        "# print(accuracy)"
      ],
      "metadata": {
        "id": "5NgFNQBG-nlc"
      },
      "execution_count": null,
      "outputs": []
    },
    {
      "cell_type": "code",
      "source": [
        "sample_data = standardized_data\n",
        "\n",
        "covar_matrix = np.matmul(sample_data.T, sample_data)\n",
        "\n",
        "print(\"The shape of variance matrix = \", covar_matrix.shape)"
      ],
      "metadata": {
        "colab": {
          "base_uri": "https://localhost:8080/"
        },
        "id": "XqtjM2aiwlH8",
        "outputId": "5c20e7f8-2cec-464b-977f-63aa356b790d"
      },
      "execution_count": null,
      "outputs": [
        {
          "output_type": "stream",
          "name": "stdout",
          "text": [
            "The shape of variance matrix =  (784, 784)\n"
          ]
        }
      ]
    },
    {
      "cell_type": "code",
      "source": [
        "from scipy.linalg import eigh\n",
        "\n",
        "values, vectors = eigh(covar_matrix, eigvals=(754,783))\n",
        "\n",
        "# print(values)\n",
        "\n",
        "# print(vectors)\n",
        "\n",
        "print(\"Shape of eigen vectors =\", vectors.shape)\n",
        "\n",
        "vectors = vectors.T\n",
        "\n",
        "print(\"Updated shape of eigen vectors =\",vectors.shape)\n",
        "\n",
        "\n"
      ],
      "metadata": {
        "colab": {
          "base_uri": "https://localhost:8080/"
        },
        "id": "Vq7fVSDhysdS",
        "outputId": "c5b61181-acf0-44f4-959c-c918ae7ca289"
      },
      "execution_count": null,
      "outputs": [
        {
          "output_type": "stream",
          "name": "stderr",
          "text": [
            "<ipython-input-24-a7e3b8f406a1>:3: DeprecationWarning: Keyword argument 'eigvals' is deprecated in favour of 'subset_by_index' keyword instead and will be removed in SciPy 1.12.0.\n",
            "  values, vectors = eigh(covar_matrix, eigvals=(754,783))\n"
          ]
        },
        {
          "output_type": "stream",
          "name": "stdout",
          "text": [
            "Shape of eigen vectors = (784, 30)\n",
            "Updated shape of eigen vectors = (30, 784)\n"
          ]
        }
      ]
    },
    {
      "cell_type": "code",
      "source": [
        "new_coordinates = np.matmul(vectors, sample_data.T)\n",
        "\n",
        "print(\"resultant new data points shape\", vectors.shape, \"x\", sample_data.T.shape,\" = \", new_coordinates.shape)"
      ],
      "metadata": {
        "colab": {
          "base_uri": "https://localhost:8080/"
        },
        "id": "tmBpxAs1zpxV",
        "outputId": "8588a334-c136-4c5c-a5fe-cf340e12bb75"
      },
      "execution_count": null,
      "outputs": [
        {
          "output_type": "stream",
          "name": "stdout",
          "text": [
            "resultant new data points shape (30, 784) x (784, 60000)  =  (30, 60000)\n"
          ]
        }
      ]
    },
    {
      "cell_type": "code",
      "source": [
        "labels = y_train"
      ],
      "metadata": {
        "id": "QdDGtURw2oy6"
      },
      "execution_count": null,
      "outputs": []
    },
    {
      "cell_type": "code",
      "source": [
        "new_coordinates = np.vstack((new_coordinates, labels)).T\n",
        "print(new_coordinates.shape)"
      ],
      "metadata": {
        "colab": {
          "base_uri": "https://localhost:8080/"
        },
        "id": "JQIadshT52J1",
        "outputId": "9102bc2f-49fb-48be-b7ed-d9dd0335772b"
      },
      "execution_count": null,
      "outputs": [
        {
          "output_type": "stream",
          "name": "stdout",
          "text": [
            "(60000, 31)\n"
          ]
        }
      ]
    },
    {
      "cell_type": "code",
      "source": [
        "new_coordinates[0]"
      ],
      "metadata": {
        "colab": {
          "base_uri": "https://localhost:8080/"
        },
        "id": "wlb8MwPwcb6G",
        "outputId": "ebc73968-ccb1-428a-9069-216de202f3dd"
      },
      "execution_count": null,
      "outputs": [
        {
          "output_type": "execute_result",
          "data": {
            "text/plain": [
              "array([-0.26522885, -0.5374337 ,  5.05207034,  0.73732579,  3.06724264,\n",
              "        2.65313975, -2.63645001,  2.31951178, -1.19216754,  5.07765877,\n",
              "        3.82120323,  4.18016626, -5.21222848, -7.51168936, -1.64330835,\n",
              "        4.4197226 , -9.200882  , -1.18377815,  3.16268621, -1.52038037,\n",
              "        2.32420709, -1.05231433, -1.39347313, -0.33613933, -0.95161561,\n",
              "       -0.9853473 ,  8.0513293 , -0.06755984, -4.81479035, -0.92215881,\n",
              "        5.        ])"
            ]
          },
          "metadata": {},
          "execution_count": 28
        }
      ]
    },
    {
      "cell_type": "markdown",
      "source": [
        "## Using KNN"
      ],
      "metadata": {
        "id": "JB4geJVmatPp"
      }
    },
    {
      "cell_type": "code",
      "source": [
        "x = new_coordinates[:,:-1]\n",
        "y = new_coordinates[:,-1]"
      ],
      "metadata": {
        "id": "CeLd_ERKbvsY"
      },
      "execution_count": null,
      "outputs": []
    },
    {
      "cell_type": "code",
      "source": [
        "from sklearn.neighbors import KNeighborsClassifier"
      ],
      "metadata": {
        "id": "9gth5qDEasxD"
      },
      "execution_count": null,
      "outputs": []
    },
    {
      "cell_type": "code",
      "source": [
        "# for k in range(7):\n",
        "neigh = KNeighborsClassifier(n_neighbors=3)\n"
      ],
      "metadata": {
        "id": "qoCKc7JVbOGW"
      },
      "execution_count": null,
      "outputs": []
    },
    {
      "cell_type": "code",
      "source": [
        "from sklearn.model_selection import train_test_split\n",
        "KNN_x_train, KNN_x_cv, KNN_y_train, KNN_y_cv = train_test_split(x,y, random_state = 42, test_size = 0.25, shuffle = True)"
      ],
      "metadata": {
        "id": "QK76cMlkc9be"
      },
      "execution_count": null,
      "outputs": []
    },
    {
      "cell_type": "code",
      "source": [
        "neigh.fit(KNN_x_train, KNN_y_train)"
      ],
      "metadata": {
        "colab": {
          "base_uri": "https://localhost:8080/",
          "height": 74
        },
        "id": "DPnAKeV1c9bp",
        "outputId": "a7c445be-aefa-431a-abe1-8364965ce210"
      },
      "execution_count": null,
      "outputs": [
        {
          "output_type": "execute_result",
          "data": {
            "text/plain": [
              "KNeighborsClassifier(n_neighbors=3)"
            ],
            "text/html": [
              "<style>#sk-container-id-1 {color: black;background-color: white;}#sk-container-id-1 pre{padding: 0;}#sk-container-id-1 div.sk-toggleable {background-color: white;}#sk-container-id-1 label.sk-toggleable__label {cursor: pointer;display: block;width: 100%;margin-bottom: 0;padding: 0.3em;box-sizing: border-box;text-align: center;}#sk-container-id-1 label.sk-toggleable__label-arrow:before {content: \"▸\";float: left;margin-right: 0.25em;color: #696969;}#sk-container-id-1 label.sk-toggleable__label-arrow:hover:before {color: black;}#sk-container-id-1 div.sk-estimator:hover label.sk-toggleable__label-arrow:before {color: black;}#sk-container-id-1 div.sk-toggleable__content {max-height: 0;max-width: 0;overflow: hidden;text-align: left;background-color: #f0f8ff;}#sk-container-id-1 div.sk-toggleable__content pre {margin: 0.2em;color: black;border-radius: 0.25em;background-color: #f0f8ff;}#sk-container-id-1 input.sk-toggleable__control:checked~div.sk-toggleable__content {max-height: 200px;max-width: 100%;overflow: auto;}#sk-container-id-1 input.sk-toggleable__control:checked~label.sk-toggleable__label-arrow:before {content: \"▾\";}#sk-container-id-1 div.sk-estimator input.sk-toggleable__control:checked~label.sk-toggleable__label {background-color: #d4ebff;}#sk-container-id-1 div.sk-label input.sk-toggleable__control:checked~label.sk-toggleable__label {background-color: #d4ebff;}#sk-container-id-1 input.sk-hidden--visually {border: 0;clip: rect(1px 1px 1px 1px);clip: rect(1px, 1px, 1px, 1px);height: 1px;margin: -1px;overflow: hidden;padding: 0;position: absolute;width: 1px;}#sk-container-id-1 div.sk-estimator {font-family: monospace;background-color: #f0f8ff;border: 1px dotted black;border-radius: 0.25em;box-sizing: border-box;margin-bottom: 0.5em;}#sk-container-id-1 div.sk-estimator:hover {background-color: #d4ebff;}#sk-container-id-1 div.sk-parallel-item::after {content: \"\";width: 100%;border-bottom: 1px solid gray;flex-grow: 1;}#sk-container-id-1 div.sk-label:hover label.sk-toggleable__label {background-color: #d4ebff;}#sk-container-id-1 div.sk-serial::before {content: \"\";position: absolute;border-left: 1px solid gray;box-sizing: border-box;top: 0;bottom: 0;left: 50%;z-index: 0;}#sk-container-id-1 div.sk-serial {display: flex;flex-direction: column;align-items: center;background-color: white;padding-right: 0.2em;padding-left: 0.2em;position: relative;}#sk-container-id-1 div.sk-item {position: relative;z-index: 1;}#sk-container-id-1 div.sk-parallel {display: flex;align-items: stretch;justify-content: center;background-color: white;position: relative;}#sk-container-id-1 div.sk-item::before, #sk-container-id-1 div.sk-parallel-item::before {content: \"\";position: absolute;border-left: 1px solid gray;box-sizing: border-box;top: 0;bottom: 0;left: 50%;z-index: -1;}#sk-container-id-1 div.sk-parallel-item {display: flex;flex-direction: column;z-index: 1;position: relative;background-color: white;}#sk-container-id-1 div.sk-parallel-item:first-child::after {align-self: flex-end;width: 50%;}#sk-container-id-1 div.sk-parallel-item:last-child::after {align-self: flex-start;width: 50%;}#sk-container-id-1 div.sk-parallel-item:only-child::after {width: 0;}#sk-container-id-1 div.sk-dashed-wrapped {border: 1px dashed gray;margin: 0 0.4em 0.5em 0.4em;box-sizing: border-box;padding-bottom: 0.4em;background-color: white;}#sk-container-id-1 div.sk-label label {font-family: monospace;font-weight: bold;display: inline-block;line-height: 1.2em;}#sk-container-id-1 div.sk-label-container {text-align: center;}#sk-container-id-1 div.sk-container {/* jupyter's `normalize.less` sets `[hidden] { display: none; }` but bootstrap.min.css set `[hidden] { display: none !important; }` so we also need the `!important` here to be able to override the default hidden behavior on the sphinx rendered scikit-learn.org. See: https://github.com/scikit-learn/scikit-learn/issues/21755 */display: inline-block !important;position: relative;}#sk-container-id-1 div.sk-text-repr-fallback {display: none;}</style><div id=\"sk-container-id-1\" class=\"sk-top-container\"><div class=\"sk-text-repr-fallback\"><pre>KNeighborsClassifier(n_neighbors=3)</pre><b>In a Jupyter environment, please rerun this cell to show the HTML representation or trust the notebook. <br />On GitHub, the HTML representation is unable to render, please try loading this page with nbviewer.org.</b></div><div class=\"sk-container\" hidden><div class=\"sk-item\"><div class=\"sk-estimator sk-toggleable\"><input class=\"sk-toggleable__control sk-hidden--visually\" id=\"sk-estimator-id-1\" type=\"checkbox\" checked><label for=\"sk-estimator-id-1\" class=\"sk-toggleable__label sk-toggleable__label-arrow\">KNeighborsClassifier</label><div class=\"sk-toggleable__content\"><pre>KNeighborsClassifier(n_neighbors=3)</pre></div></div></div></div></div>"
            ]
          },
          "metadata": {},
          "execution_count": 33
        }
      ]
    },
    {
      "cell_type": "code",
      "source": [
        "from sklearn import metrics\n",
        "pred = neigh.predict(KNN_x_cv)\n",
        "accuracy = metrics.accuracy_score(KNN_y_cv,pred)\n",
        "print(accuracy)"
      ],
      "metadata": {
        "colab": {
          "base_uri": "https://localhost:8080/"
        },
        "id": "ySnHDWCoc9bp",
        "outputId": "bcb7430c-a576-4a0e-ac83-479c8c506a0d"
      },
      "execution_count": null,
      "outputs": [
        {
          "output_type": "stream",
          "name": "stdout",
          "text": [
            "0.9538666666666666\n"
          ]
        }
      ]
    },
    {
      "cell_type": "code",
      "source": [
        "# dataframe = pd.DataFrame(data=new_coordinates, columns=(\"1st_principal\", \"2nd_principal\", \"label\"))\n",
        "# print(dataframe.head())"
      ],
      "metadata": {
        "id": "DovGKm3u6KWS"
      },
      "execution_count": null,
      "outputs": []
    },
    {
      "cell_type": "code",
      "source": [
        "# import seaborn as sns\n",
        "# sns.FacetGrid(dataframe, hue=\"label\").map(plt.scatter, '1st_principal', '2nd_principal', s= 6).add_legend()\n",
        "# plt.show()"
      ],
      "metadata": {
        "id": "NMgb9rIQ7Bk_"
      },
      "execution_count": null,
      "outputs": []
    },
    {
      "cell_type": "markdown",
      "source": [
        "## PCA using Scikit-learn"
      ],
      "metadata": {
        "id": "Uh-eBh4drUqM"
      }
    },
    {
      "cell_type": "code",
      "source": [
        "# from sklearn import decomposition\n",
        "# pca = decomposition.PCA()"
      ],
      "metadata": {
        "id": "PnFtMnPY9ncL"
      },
      "execution_count": null,
      "outputs": []
    },
    {
      "cell_type": "code",
      "source": [
        "# pca.n_components =14\n",
        "# pca_data = pca.fit_transform(sample_data)\n",
        "\n",
        "# print(\"shape of pca_reduced.shape =\", pca_data.shape)"
      ],
      "metadata": {
        "id": "5KS69wQ9rmXr"
      },
      "execution_count": null,
      "outputs": []
    },
    {
      "cell_type": "code",
      "source": [
        "# pca_data = np.vstack((pca_data.T, labels)).T\n",
        "\n",
        "# pca_df = pd.DataFrame(data=pca_data, columns=(\"1st_principal\", \"2nd_principal\", \"label\"))\n",
        "# sns.FacetGrid(pca_df, hue=\"label\").map(plt.scatter, '1st_principal', '2nd_principal', s= 6).add_legend()\n",
        "# plt.show()"
      ],
      "metadata": {
        "id": "T60HIquDsNMc"
      },
      "execution_count": null,
      "outputs": []
    },
    {
      "cell_type": "markdown",
      "source": [
        "## PCA for dimensionality reduction(non-visualization)"
      ],
      "metadata": {
        "id": "6b2QkmnMujij"
      }
    },
    {
      "cell_type": "code",
      "source": [
        "# pca.n_components = 784\n",
        "# pca_data = pca.fit_transform(sample_data)\n",
        "\n",
        "# percentage_var_explained = pca.explained_variance_/ np.sum(pca.explained_variance_)\n",
        "\n",
        "# cum_var_explained = np.cumsum(percentage_var_explained)\n",
        "\n",
        "# plt.figure(1, figsize=(6,4))\n",
        "\n",
        "# plt.clf()\n",
        "# plt.plot(cum_var_explained, linewidth=2)\n",
        "# plt.axis('tight')\n",
        "# plt.grid()\n",
        "# plt.xlabel('n_compontents')\n",
        "# plt.ylabel('Cumulative_explained_varience')\n",
        "# plt.show()"
      ],
      "metadata": {
        "id": "ZLqe_NiYtT_x"
      },
      "execution_count": null,
      "outputs": []
    },
    {
      "cell_type": "code",
      "source": [
        "# print(cum_var_explained[200])"
      ],
      "metadata": {
        "id": "6vVhlx4IzKh8"
      },
      "execution_count": null,
      "outputs": []
    },
    {
      "cell_type": "code",
      "source": [],
      "metadata": {
        "id": "zZtEL_A80IQ1"
      },
      "execution_count": null,
      "outputs": []
    },
    {
      "cell_type": "code",
      "source": [],
      "metadata": {
        "id": "JCJsFMQZ5mfx"
      },
      "execution_count": null,
      "outputs": []
    }
  ]
}